{
 "cells": [
  {
   "cell_type": "markdown",
   "metadata": {},
   "source": [
    "# A Sinous Violin\n",
    "\n",
    "The aim of this short notebook is to show how to use [NumPy](http://www.numpy.org/) and [SciPy](https://www.scipy.org/) to play with spectral audio signal analysis (and synthesis). \n",
    "\n",
    "Lots of prior knowledge is assumed, and here no *signal theory* (nor its mathematical details) will be discussed. The reader interested a more formal discussion is invited to read, for example: \"[Spectral Audio Signal Processing](https://ccrma.stanford.edu/~jos/sasp/sasp.html)\" by [Julius O. Smith III](https://ccrma.stanford.edu/~jos/) that is a precise and deep, yet manageable, introduction to the topic.\n",
    "\n",
    "For the reader less inclined in formal details (heaven forbid that the others will read the following sentence) suffices it to say that any (periodic) signal can be obtained as a superposition of *sine* waves (with suitable frequencies and amplitures).\n",
    "\n",
    "The roadmap of what we'll be doing is:\n",
    "\n",
    "* take a real signal (a *flute* and a *violin* sample), \n",
    "* perform some *spectral analysis*,\n",
    "* determine some of the *frequencies* having the strongest *amplitudes* in such spectrum,\n",
    "* \"reconstruct\" a signal using just a few *sine* waves,\n",
    "* play the orignal, and reconstructed sound.\n",
    "\n",
    "As you'll see, beside what theory guarantees, this actually works and very few waves are enough to approximate the *timbre* of a musical instrument.\n",
    "\n",
    "The [source notebook](https://github.com/mapio/sinuous-violin) is available on GitHub (under [GPL v3](https://www.gnu.org/licenses/gpl-3.0.en.html)), feel free to use [issues](https://github.com/mapio/sinuous-violin/issues) to point out errors, or to [fork it](https://help.github.com/articles/fork-a-repo/) to suggest edits.\n",
    "\n",
    "A special thanks to the friend and colleague [Federico Pedersini](https://homes.di.unimi.it/pedersini/) for tolerating my endless discussion and my musings."
   ]
  },
  {
   "cell_type": "markdown",
   "metadata": {},
   "source": [
    "## The usual notebook setup\n",
    "\n",
    "Beside the already mentioned [NumPy](http://www.numpy.org/) and [SciPy](https://www.scipy.org/), we'll use [librosa](https://github.com/librosa/librosa) to read the WAV files containing the samples, and [matplotlib](https://matplotlib.org/) because a picture is worth a thousand words; to play the samples we'll use the standard [Audio](http://ipython.readthedocs.io/en/stable/api/generated/IPython.display.html?highlight=AUdio#IPython.display.Audio) display class of [IPython](https://ipython.org/)."
   ]
  },
  {
   "cell_type": "code",
   "execution_count": null,
   "metadata": {},
   "outputs": [],
   "source": [
    "%matplotlib inline\n",
    "\n",
    "from IPython.display import Audio\n",
    "import librosa\n",
    "import matplotlib.pyplot as plt\n",
    "import numpy as np\n",
    "import scipy as sp\n",
    "\n",
    "plt.rcParams['figure.figsize'] = 8, 4\n",
    "plt.style.use('ggplot')"
   ]
  },
  {
   "cell_type": "markdown",
   "metadata": {},
   "source": [
    "## Let's begin\n",
    "\n",
    "We'll fix the sampling rate once and for all, to 8000Hz that is enough for our audio purposes, yet low enough to reduce the number of samples involved in the following computations."
   ]
  },
  {
   "cell_type": "code",
   "execution_count": null,
   "metadata": {},
   "outputs": [],
   "source": [
    "RATE = 8000"
   ]
  },
  {
   "cell_type": "markdown",
   "metadata": {},
   "source": [
    "We define a couple of helper functions, to *load* the samples in a WAV file and to generate a *sine* wave of given *frequency* and *duration* (given the sampling `RATE` defined above)."
   ]
  },
  {
   "cell_type": "code",
   "execution_count": null,
   "metadata": {},
   "outputs": [],
   "source": [
    "def load_signal_wav(name):\n",
    "    signal, _ = librosa.load(name + '.wav', sr = RATE, mono = True)\n",
    "    return signal"
   ]
  },
  {
   "cell_type": "code",
   "execution_count": null,
   "metadata": {},
   "outputs": [],
   "source": [
    "def sine_wave(freq, duration):\n",
    "    return np.sin(np.arange(0, duration, 1 / RATE) * freq * 2 * np.pi) "
   ]
  },
  {
   "cell_type": "markdown",
   "metadata": {},
   "source": [
    "Let's check we've done a good job by playing a couple of seconds of a \"pure A\", that is a sine wave at 440hz"
   ]
  },
  {
   "cell_type": "code",
   "execution_count": null,
   "metadata": {},
   "outputs": [],
   "source": [
    "samples_sine = sine_wave(440, 2)\n",
    "Audio(samples_sine, rate = RATE)"
   ]
  },
  {
   "cell_type": "markdown",
   "metadata": {},
   "source": [
    "Similarly, let's load our *flute* sample and play it"
   ]
  },
  {
   "cell_type": "code",
   "execution_count": null,
   "metadata": {},
   "outputs": [],
   "source": [
    "samples_original = load_signal_wav('violin')\n",
    "Audio(samples_original, rate = RATE)"
   ]
  },
  {
   "cell_type": "markdown",
   "metadata": {},
   "source": [
    "## Some analysis\n",
    "\n",
    "Using the [specgram](https://matplotlib.org/devdocs/api/_as_gen/matplotlib.axes.Axes.specgram.html) \n",
    "function we can plot a [spectrogram](https://ccrma.stanford.edu/~jos/mdft/Spectrograms.html)"
   ]
  },
  {
   "cell_type": "code",
   "execution_count": null,
   "metadata": {},
   "outputs": [],
   "source": [
    "plt.specgram(samples_original, Fs = RATE);"
   ]
  },
  {
   "cell_type": "markdown",
   "metadata": {},
   "source": [
    "even specifing just (the sampling frequency) `Fs`, that is the only required parameter, and without fiddling with all the others, we can already see *qualitatively* that there are just a few relevant frequencies (the yellow lines).\n",
    "\n",
    "To get the precise values (and amplitudes) of such frequencies we'll need a more *quantitative* tool, namely the [scipy.fftpack.fft](https://docs.scipy.org/doc/scipy/reference/generated/scipy.fftpack.fft.html) function that performs a [Fast Fourier Transform](https://ccrma.stanford.edu/~jos/mdft/Fast_Fourier_Transform_FFT.html), and the helper function [scipy.fftpack.fftfreq](https://docs.scipy.org/doc/scipy/reference/generated/scipy.fftpack.fftfreq.html) that locates the actual frequencies used by the FFT computation."
   ]
  },
  {
   "cell_type": "code",
   "execution_count": null,
   "metadata": {},
   "outputs": [],
   "source": [
    "N = samples_original.shape[0]\n",
    "spectrum = sp.fftpack.fft(samples_original)\n",
    "frequencies = sp.fftpack.fftfreq(N, 1 / RATE)"
   ]
  },
  {
   "cell_type": "markdown",
   "metadata": {},
   "source": [
    "Since the signal is *real* (that is, is made of real values), we need just the first half of the returned values; moreover we are interested just in the *amplitudes* of the spectrum"
   ]
  },
  {
   "cell_type": "code",
   "execution_count": null,
   "metadata": {},
   "outputs": [],
   "source": [
    "frequencies = frequencies[:N//2]\n",
    "amplitudes = np.abs(spectrum[:N//2])"
   ]
  },
  {
   "cell_type": "markdown",
   "metadata": {},
   "source": [
    "Plotting the result makes it evident that, in accordance with what we observed in the spectrogram, there are just a few peaks"
   ]
  },
  {
   "cell_type": "code",
   "execution_count": null,
   "metadata": {},
   "outputs": [],
   "source": [
    "plt.plot(frequencies, amplitudes);"
   ]
  },
  {
   "cell_type": "markdown",
   "metadata": {},
   "source": [
    "### Locating the maxima\n",
    "\n",
    "To find the frequencies where such peaks are located turns out to be a little tricky: to locate the peaks the [scipy.signal.find_peaks_cwt](https://docs.scipy.org/doc/scipy/reference/generated/scipy.signal.find_peaks_cwt.html) needs a `widths` parameter specifing \"the expected width of peaks of interest\". \n",
    "\n",
    "After some trial and error, one can see that `60` is a reasonable width to get *close enough* to the actual peaks. "
   ]
  },
  {
   "cell_type": "code",
   "execution_count": null,
   "metadata": {},
   "outputs": [],
   "source": [
    "peak_indices = sp.signal.find_peaks_cwt(amplitudes, widths = (60,))"
   ]
  },
  {
   "cell_type": "markdown",
   "metadata": {},
   "source": [
    "but plotting the peaks reveals that sometimes they are a bit off"
   ]
  },
  {
   "cell_type": "code",
   "execution_count": null,
   "metadata": {},
   "outputs": [],
   "source": [
    "plt.plot(frequencies, amplitudes)\n",
    "plt.plot(frequencies[peak_indices], amplitudes[peak_indices], 'bx');"
   ]
  },
  {
   "cell_type": "markdown",
   "metadata": {},
   "source": [
    "let's look at `10` values around the located peaks to get the actual maxima of the amplitudes, and then use such values to locate the frequencies where they are attained"
   ]
  },
  {
   "cell_type": "code",
   "execution_count": null,
   "metadata": {},
   "outputs": [],
   "source": [
    "amplitudes_maxima = list(map(lambda idx: np.max(amplitudes[idx - 10:idx + 10]), peak_indices))\n",
    "frequencies_maxima = frequencies[np.isin(amplitudes, amplitudes_maxima)]"
   ]
  },
  {
   "cell_type": "markdown",
   "metadata": {},
   "source": [
    "by plotting these values we can tell we did a good job; using a logarithmic scale we can better appreciate that also the few last values correspond to actual peaks (albeit of much smaller amplitude)"
   ]
  },
  {
   "cell_type": "code",
   "execution_count": null,
   "metadata": {},
   "outputs": [],
   "source": [
    "plt.semilogy(frequencies, amplitudes)\n",
    "plt.plot(frequencies_maxima, amplitudes_maxima, 'bx');"
   ]
  },
  {
   "cell_type": "markdown",
   "metadata": {},
   "source": [
    "We can isolate our peak finding function for further use"
   ]
  },
  {
   "cell_type": "code",
   "execution_count": null,
   "metadata": {},
   "outputs": [],
   "source": [
    "def find_peaks(frequencies, amplitudes, width, lookaround):\n",
    "    peak_indices = sp.signal.find_peaks_cwt(amplitudes, widths = (width,))\n",
    "    amplitudes_maxima = list(map(lambda idx: np.max(amplitudes[idx - lookaround:idx + lookaround]), peak_indices))\n",
    "    frequencies_maxima = frequencies[np.isin(amplitudes, amplitudes_maxima)]\n",
    "    return frequencies_maxima, amplitudes_maxima"
   ]
  },
  {
   "cell_type": "markdown",
   "metadata": {},
   "source": [
    "## Finally the synthesis\n",
    "\n",
    "Now that we have both the relevant frequencies and amplitudes, we can put together the sine waves and build an approximation of the original signal"
   ]
  },
  {
   "cell_type": "code",
   "execution_count": null,
   "metadata": {},
   "outputs": [],
   "source": [
    "def compose_sine_waves(frequencies, amplitudes, duration):\n",
    "    return sum(map(lambda fa: sine_wave(fa[0], 2) * fa[1], zip(frequencies, amplitudes)))"
   ]
  },
  {
   "cell_type": "code",
   "execution_count": null,
   "metadata": {},
   "outputs": [],
   "source": [
    "samples_reconstructed = compose_sine_waves(frequencies_maxima, amplitudes_maxima, 2)"
   ]
  },
  {
   "cell_type": "markdown",
   "metadata": {},
   "source": [
    "The spectrogram looks promising"
   ]
  },
  {
   "cell_type": "code",
   "execution_count": null,
   "metadata": {},
   "outputs": [],
   "source": [
    "plt.specgram(samples_reconstructed, Fs = RATE);"
   ]
  },
  {
   "cell_type": "markdown",
   "metadata": {},
   "source": [
    "but what is striking is how similar the reconstructed sound is with respect to the original one"
   ]
  },
  {
   "cell_type": "code",
   "execution_count": null,
   "metadata": {},
   "outputs": [],
   "source": [
    "Audio(samples_reconstructed, rate = RATE)"
   ]
  },
  {
   "cell_type": "markdown",
   "metadata": {},
   "source": [
    "exspecially if you compare it with just the sine wave corresponding to the maximum amplitude"
   ]
  },
  {
   "cell_type": "code",
   "execution_count": null,
   "metadata": {},
   "outputs": [],
   "source": [
    "Audio(sine_wave(frequencies_maxima[np.argmax(amplitudes_maxima)], 2), rate = RATE)"
   ]
  },
  {
   "cell_type": "markdown",
   "metadata": {},
   "source": [
    "## Not just violins\n",
    "\n",
    "Of course the same game can be played with other samples, let's try a flute"
   ]
  },
  {
   "cell_type": "code",
   "execution_count": null,
   "metadata": {},
   "outputs": [],
   "source": [
    "samples_original = load_signal_wav('flute')\n",
    "Audio(samples_original, rate = RATE)"
   ]
  },
  {
   "cell_type": "markdown",
   "metadata": {},
   "source": [
    "We can replicate the steps to obtain the relevant frequenceis and amplitudes, plotting the result as a quick check"
   ]
  },
  {
   "cell_type": "code",
   "execution_count": null,
   "metadata": {},
   "outputs": [],
   "source": [
    "N = samples_original.shape[0]\n",
    "frequencies = sp.fftpack.fftfreq(N, 1 / RATE)[:N//2]\n",
    "amplitudes = np.abs(sp.fftpack.fft(samples_original))[:N//2]\n",
    "\n",
    "frequencies_maxima, amplitudes_maxima = find_peaks(frequencies, amplitudes, 100, 50)\n",
    "plt.plot(frequencies, amplitudes)\n",
    "plt.plot(frequencies_maxima, amplitudes_maxima, 'bx');"
   ]
  },
  {
   "cell_type": "markdown",
   "metadata": {},
   "source": [
    "and again, play the obtained sound, compared to the maximum amplitude sine wave"
   ]
  },
  {
   "cell_type": "code",
   "execution_count": null,
   "metadata": {},
   "outputs": [],
   "source": [
    "samples_reconstructed = compose_sine_waves(frequencies_maxima, amplitudes_maxima, 2)\n",
    "Audio(samples_reconstructed, rate = RATE)"
   ]
  },
  {
   "cell_type": "code",
   "execution_count": null,
   "metadata": {},
   "outputs": [],
   "source": [
    "Audio(sine_wave(frequencies_maxima[np.argmax(amplitudes_maxima)], 2), rate = RATE)"
   ]
  },
  {
   "cell_type": "markdown",
   "metadata": {},
   "source": [
    "## Wrap up\n",
    "\n",
    "As promised, this notebook shows how:\n",
    "\n",
    "* take a real signal, \n",
    "* perform the [Fast Fourier Transform](https://ccrma.stanford.edu/~jos/mdft/Fast_Fourier_Transform_FFT.html),\n",
    "* locate the frequencies corresponding to the *peaks* of the amplitudes in such spectrum,\n",
    "* use such values to build a synthetic signal.\n",
    "\n",
    "Even if the result is exactly what one can expect from the theory, the notebook provides a couple of quite surprising examples where a few sine waves can convey the *timbre* of two very different musical instruments such as a violin and a flute."
   ]
  }
 ],
 "metadata": {
  "kernelspec": {
   "display_name": "Python 3",
   "language": "python",
   "name": "python3"
  },
  "language_info": {
   "codemirror_mode": {
    "name": "ipython",
    "version": 3
   },
   "file_extension": ".py",
   "mimetype": "text/x-python",
   "name": "python",
   "nbconvert_exporter": "python",
   "pygments_lexer": "ipython3",
   "version": "3.6.2"
  }
 },
 "nbformat": 4,
 "nbformat_minor": 2
}
